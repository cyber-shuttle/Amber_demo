{
 "cells": [
  {
   "cell_type": "markdown",
   "id": "2ed7c3c6-70e8-426f-9ee5-7fce3428d5c7",
   "metadata": {},
   "source": [
    "# Amber Tutorial: Local Execution\n",
    "\n",
    "This Notebook demonstrates how to set up and run a basic Amber simulations.\n",
    "The studied system is the AMDase enzyme, a decerboxylate, with a bound simple substrate. The substrate have four different possible binding modes, which differ in whether the pro-S or pro-R prochiral carboxylate group is cleaved, and also, whether the reaction progresses with an inversion or retention mechanism. In this tutorial, we are going to run classical Molecular Dynamics simulations to compare the feasibilty of the four binding modes. The required topology and coordinate files are made available."
   ]
  },
  {
   "cell_type": "code",
   "execution_count": 1,
   "id": "3f2703bc",
   "metadata": {},
   "outputs": [
    {
     "name": "stdout",
     "output_type": "stream",
     "text": [
      "\u001b[33mWARNING: The directory '/home/jovyan/.cache/pip' or its parent directory is not owned or is not writable by the current user. The cache has been disabled. Check the permissions and owner of that directory. If executing pip with sudo, you should use sudo's -H flag.\u001b[0m\u001b[33m\n",
      "\u001b[0mNote: you may need to restart the kernel to use updated packages.\n",
      "\n",
      "Loaded airavata_jupyter_magic (2.1.4.post1) \n",
      "(current runtime = local)\n",
      "\n",
      "  %authenticate                              -- Authenticate to access high-performance runtimes.\n",
      "  %request_runtime <rt> [args]               -- Request a runtime named <rt> with configuration <args>.\n",
      "                                                Call multiple times to request multiple runtimes.\n",
      "  %restart_runtime <rt>                      -- Restart runtime <rt> if it hangs. This will clear all variables.\n",
      "  %stop_runtime <rt>                         -- Stop runtime <rt> when no longer needed.\n",
      "  %wait_for_runtime <rt>                     -- Wait for runtime <rt> to be ready.\n",
      "  %switch_runtime <rt>                       -- Switch the active runtime to <rt>. All subsequent cells will run here.\n",
      "  %%run_on <rt>                              -- Force a cell to always execute on <rt>, regardless of the active runtime.\n",
      "  %stat_runtime <rt>                         -- Show the status of runtime <rt>.\n",
      "  %copy_data source=<r1:f1> target=<r2:f2>   -- Copy <f1> in <r1> to <f2> in <r2>.\n",
      "  %open_tunnels <tn> --forward=<ports>       -- Open a TCP tunnel on the runtime.\n",
      "  %close_tunnels <tn>                        -- Close a TCP tunnel opened on the runtime.\n",
      "  %run_subprocess <pn> --command=<cmd>\n",
      "                       --forward=<ports>     -- Start a subprocess on the runtime.\n",
      "  %kill_subprocess <pn>                      -- Kill a subprocess started on the runtime.\n",
      "\n"
     ]
    },
    {
     "data": {
      "application/vnd.jupyter.widget-view+json": {
       "model_id": "",
       "version_major": 2,
       "version_minor": 0
      },
      "text/plain": [
       "Output()"
      ]
     },
     "metadata": {},
     "output_type": "display_data"
    },
    {
     "data": {
      "text/html": [
       "<pre style=\"white-space:pre;overflow-x:auto;line-height:normal;font-family:Menlo,'DejaVu Sans Mono',consolas,'Courier New',monospace\">Authenticated.\n",
       "</pre>\n"
      ],
      "text/plain": [
       "Authenticated.\n"
      ]
     },
     "metadata": {},
     "output_type": "display_data"
    },
    {
     "data": {
      "text/html": [
       "<pre style=\"white-space:pre;overflow-x:auto;line-height:normal;font-family:Menlo,'DejaVu Sans Mono',consolas,'Courier New',monospace\"></pre>\n"
      ],
      "text/plain": []
     },
     "metadata": {},
     "output_type": "display_data"
    },
    {
     "data": {
      "text/html": [
       "<pre style=\"white-space:pre;overflow-x:auto;line-height:normal;font-family:Menlo,'DejaVu Sans Mono',consolas,'Courier New',monospace\"></pre>\n"
      ],
      "text/plain": []
     },
     "metadata": {},
     "output_type": "display_data"
    },
    {
     "name": "stdout",
     "output_type": "stream",
     "text": [
      "Requesting runtime=hpc_gpu...\n",
      "[expanse:gpu-shared, 60 Minutes, 1 Node(s), 4 CPU(s), 0 GPU(s), 4096 MB RAM, 1024 MB VRAM]\n",
      "* modules=[]\n",
      "* libraries=['python=3.10', 'pip', 'numpy', 'tqdm', 'rich']\n",
      "* pip=[]\n",
      "* mounts=[]\n",
      "Requested runtime=hpc_gpu\n",
      "Request successful: runtime=hpc_gpu\n"
     ]
    },
    {
     "data": {
      "application/vnd.jupyter.widget-view+json": {
       "model_id": "86fb1c93d3594f6696f35bbcf9ccb5a9",
       "version_major": 2,
       "version_minor": 0
      },
      "text/plain": [
       "Output()"
      ]
     },
     "metadata": {},
     "output_type": "display_data"
    },
    {
     "data": {
      "text/html": [
       "<pre style=\"white-space:pre;overflow-x:auto;line-height:normal;font-family:Menlo,'DejaVu Sans Mono',consolas,'Courier New',monospace\"></pre>\n"
      ],
      "text/plain": []
     },
     "metadata": {},
     "output_type": "display_data"
    },
    {
     "name": "stdout",
     "output_type": "stream",
     "text": [
      "local:/tmp/connection_i2h16xbt.json --> hpc_gpu:connection_i2h16xbt.json... [200]\n",
      "started proc_name=hpc_gpu_kernel on rt=hpc_gpu. pid=3739196\n",
      "forwarding ports=[29410, 29411, 29412, 29413, 29414]\n",
      "hpc_gpu:29410 -> access via 18.118.140.230:10010\n",
      "hpc_gpu:29411 -> access via 18.118.140.230:10011\n",
      "hpc_gpu:29412 -> access via 18.118.140.230:10012\n",
      "hpc_gpu:29413 -> access via 18.118.140.230:10013\n",
      "hpc_gpu:29414 -> access via 18.118.140.230:10014\n",
      "18.118.140.230\n",
      "started ipykernel client for hpc_gpu\n",
      "Remote Jupyter kernel launched and connected for runtime=hpc_gpu.\n",
      "Switched to runtime=hpc_gpu.\n"
     ]
    }
   ],
   "source": [
    "%pip install -qU \"airavata-python-sdk[notebook]\"\n",
    "import airavata_jupyter_magic\n",
    "\n",
    "%authenticate\n",
    "%request_runtime hpc_gpu --file=cybershuttle.yml --walltime=60 --use=expanse:gpu-shared\n",
    "%wait_for_runtime hpc_gpu --live\n",
    "%switch_runtime hpc_gpu"
   ]
  },
  {
   "cell_type": "markdown",
   "id": "077592cf-bc07-4178-a98b-698c45e7cbab",
   "metadata": {},
   "source": [
    "# 1.1 Binding mode A: minimization\n",
    "\n",
    "The first binding mode, A (pro-S cleavage, inversion mechanism) will be simulated in separate steps, starting with the minimization of the structure."
   ]
  },
  {
   "cell_type": "code",
   "execution_count": 16,
   "id": "ad20436b",
   "metadata": {},
   "outputs": [
    {
     "name": "stdout",
     "output_type": "stream",
     "text": [
      "copying local:proS_inv/1_md to hpc_gpu:.\n",
      "local:proS_inv/1_md/equil11npt.in --> hpc_gpu:equil11npt.in... [200]\n",
      "local:proS_inv/1_md/equil7npt.in --> hpc_gpu:equil7npt.in... [200]\n",
      "local:proS_inv/1_md/heat2nvt.in --> hpc_gpu:heat2nvt.in... [200]\n",
      "local:proS_inv/1_md/distance_cpptraj.in --> hpc_gpu:distance_cpptraj.in... [200]\n",
      "local:proS_inv/1_md/heat5nvt.in --> hpc_gpu:heat5nvt.in... [200]\n",
      "local:proS_inv/1_md/dist_cpptraj_proR_ret_3.in --> hpc_gpu:dist_cpptraj_proR_ret_3.in... [200]\n",
      "local:proS_inv/1_md/heat3npt.in --> hpc_gpu:heat3npt.in... [200]\n",
      "local:proS_inv/1_md/dist_cpptraj_proS_inv_1.in --> hpc_gpu:dist_cpptraj_proS_inv_1.in... [200]\n",
      "local:proS_inv/1_md/3ixl_CLGIPL_methyl_proR_ret_complex.top --> hpc_gpu:3ixl_CLGIPL_methyl_proR_ret_complex.top... [200]\n",
      "local:proS_inv/1_md/3ixl_CLGIPL_methyl_proS_inv_complex.top --> hpc_gpu:3ixl_CLGIPL_methyl_proS_inv_complex.top... [200]\n",
      "local:proS_inv/1_md/production1.in --> hpc_gpu:production1.in... [200]\n",
      "local:proS_inv/1_md/equil8npt.in --> hpc_gpu:equil8npt.in... [200]\n",
      "local:proS_inv/1_md/dist_cpptraj_proS_inv_2.in --> hpc_gpu:dist_cpptraj_proS_inv_2.in... [200]\n",
      "local:proS_inv/1_md/3ixl_CLGIPL_methyl_proS_inv_complex.crd --> hpc_gpu:3ixl_CLGIPL_methyl_proS_inv_complex.crd... [200]\n",
      "local:proS_inv/1_md/min4.in --> hpc_gpu:min4.in... [200]\n",
      "local:proS_inv/1_md/dist_cpptraj_proS_inv_3.in --> hpc_gpu:dist_cpptraj_proS_inv_3.in... [200]\n",
      "local:proS_inv/1_md/dist_cpptraj_proR_ret_1.in --> hpc_gpu:dist_cpptraj_proR_ret_1.in... [200]\n",
      "local:proS_inv/1_md/min1.in --> hpc_gpu:min1.in... [200]\n",
      "local:proS_inv/1_md/equil12npt.in --> hpc_gpu:equil12npt.in... [200]\n",
      "local:proS_inv/1_md/equil9npt.in --> hpc_gpu:equil9npt.in... [200]\n",
      "local:proS_inv/1_md/dist_cpptraj_proR_ret_2.in --> hpc_gpu:dist_cpptraj_proR_ret_2.in... [200]\n",
      "local:proS_inv/1_md/heat6npt.in --> hpc_gpu:heat6npt.in... [200]\n",
      "local:proS_inv/1_md/equil10npt.in --> hpc_gpu:equil10npt.in... [200]\n"
     ]
    }
   ],
   "source": [
    "%copy_data source=local:proS_inv/1_md target=hpc_gpu:."
   ]
  },
  {
   "cell_type": "code",
   "execution_count": 17,
   "id": "abad48a9-8b9a-4096-a570-4a1c06cfdc50",
   "metadata": {},
   "outputs": [
    {
     "name": "stdout",
     "output_type": "stream",
     "text": [
      "executing cell on hpc_gpu...\n",
      "waiting for cell to finish on hpc_gpu...\n"
     ]
    },
    {
     "name": "stderr",
     "output_type": "stream",
     "text": [
      "\n",
      "Lmod is automatically replacing \"gcc/10.2.0/npcyll4\" with \"gcc/8.4.0/xiuwkua\".\n",
      "\n"
     ]
    },
    {
     "name": "stdout",
     "output_type": "stream",
     "text": [
      "cell finished on hpc_gpu.\n"
     ]
    },
    {
     "name": "stderr",
     "output_type": "stream",
     "text": [
      "Note: The following floating-point exceptions are signalling: IEEE_INVALID_FLAG IEEE_OVERFLOW_FLAG IEEE_UNDERFLOW_FLAG IEEE_DENORMAL\n"
     ]
    }
   ],
   "source": [
    "%%bash\n",
    "\n",
    "module load gpu/0.17.3b  gcc/8.4.0/xiuwkua  openmpi/4.1.3/v2ei3ge amber/22/ulauqq7-omp\n",
    "\n",
    "pmemd.cuda_SPFP \\\n",
    "                       -O -i min1.in \\\n",
    "                       -o  3ixl_CLGIPL_methyl_proS_inv_complex_1opt.log \\\n",
    "                       -c  3ixl_CLGIPL_methyl_proS_inv_complex.crd \\\n",
    "                       -p  3ixl_CLGIPL_methyl_proS_inv_complex.top \\\n",
    "                       -r  3ixl_CLGIPL_methyl_proS_inv_complex_1opt.rst \\\n",
    "                       -x  3ixl_CLGIPL_methyl_proS_inv_complex_1opt.crd \\\n",
    "                       -ref 3ixl_CLGIPL_methyl_proS_inv_complex.crd"
   ]
  },
  {
   "cell_type": "code",
   "execution_count": 18,
   "id": "7de9f0b3-63aa-4dd8-ad20-b79a001f0dd8",
   "metadata": {},
   "outputs": [
    {
     "name": "stdout",
     "output_type": "stream",
     "text": [
      "executing cell on hpc_gpu...\n",
      "waiting for cell to finish on hpc_gpu...\n",
      "-rw-r--r-- 1 gridchem uic151  5782173 May  7 12:20 3ixl_CLGIPL_methyl_proR_ret_complex.top\n",
      "-rw-r--r-- 1 gridchem uic151  5782650 May  7 12:20 3ixl_CLGIPL_methyl_proS_inv_complex.top\n",
      "-rw-r--r-- 1 gridchem uic151  1103014 May  7 12:20 3ixl_CLGIPL_methyl_proS_inv_complex.crd\n",
      "-rw-r--r-- 1 gridchem uic151   726052 May  7 12:21 3ixl_CLGIPL_methyl_proS_inv_complex_1opt.rst\n",
      "-rw-r--r-- 1 gridchem uic151    15723 May  7 12:21 3ixl_CLGIPL_methyl_proS_inv_complex_1opt.log\n",
      "cell finished on hpc_gpu.\n"
     ]
    }
   ],
   "source": [
    "! ls -lrt | grep 3ixl"
   ]
  },
  {
   "cell_type": "markdown",
   "id": "05b37500-75e0-4dda-a4f1-d97ec49307d2",
   "metadata": {},
   "source": [
    "# 1.2 Binding mode A: heating\n",
    "\n",
    "In the next two steps, we heat our system to 300 K, with restraints on the protein heavy atoms."
   ]
  },
  {
   "cell_type": "code",
   "execution_count": null,
   "id": "2b9b5995-336e-45cb-b24c-4d42d901507e",
   "metadata": {},
   "outputs": [
    {
     "name": "stdout",
     "output_type": "stream",
     "text": [
      "executing cell on hpc_gpu...\n",
      "waiting for cell to finish on hpc_gpu...\n"
     ]
    },
    {
     "name": "stderr",
     "output_type": "stream",
     "text": [
      "\n",
      "Lmod is automatically replacing \"gcc/10.2.0/npcyll4\" with \"gcc/8.4.0/xiuwkua\".\n",
      "\n",
      "Note: The following floating-point exceptions are signalling: IEEE_INVALID_FLAG IEEE_OVERFLOW_FLAG IEEE_UNDERFLOW_FLAG IEEE_DENORMAL\n"
     ]
    }
   ],
   "source": [
    "%%bash\n",
    "\n",
    "module load gpu/0.17.3b  gcc/8.4.0/xiuwkua  openmpi/4.1.3/v2ei3ge amber/22/ulauqq7-omp\n",
    "\n",
    "pmemd.cuda_SPFP \\\n",
    "                       -O -i heat2nvt.in \\\n",
    "                       -o  3ixl_CLGIPL_methyl_proS_inv_complex_2heat.log \\\n",
    "                       -c  3ixl_CLGIPL_methyl_proS_inv_complex_1opt.rst \\\n",
    "                       -p  3ixl_CLGIPL_methyl_proS_inv_complex.top \\\n",
    "                       -r  3ixl_CLGIPL_methyl_proS_inv_complex_2heat.rst \\\n",
    "                       -x  3ixl_CLGIPL_methyl_proS_inv_complex_2heat.crd \\\n",
    "                       -ref 3ixl_CLGIPL_methyl_proS_inv_complex_1opt.rst\n",
    "\n",
    "pmemd.cuda_SPFP \\\n",
    "                       -O -i  heat3npt.in \\\n",
    "                       -o  3ixl_CLGIPL_methyl_proS_inv_complex_3heat.log \\\n",
    "                       -c  3ixl_CLGIPL_methyl_proS_inv_complex_2heat.rst \\\n",
    "                       -p  3ixl_CLGIPL_methyl_proS_inv_complex.top \\\n",
    "                       -r  3ixl_CLGIPL_methyl_proS_inv_complex_3heat.rst \\\n",
    "                       -x  3ixl_CLGIPL_methyl_proS_inv_complex_3heat.crd \\\n",
    "                       -ref  3ixl_CLGIPL_methyl_proS_inv_complex_2heat.rst\n"
   ]
  },
  {
   "cell_type": "markdown",
   "id": "ccb61349-2dff-4dae-a42c-85b34b092221",
   "metadata": {},
   "source": [
    "# 1.3 Binding mode A: minimization 2.\n",
    "\n",
    "In the next two steps, we minimize our system for a second time."
   ]
  },
  {
   "cell_type": "code",
   "execution_count": null,
   "id": "bce7225d-ea86-4682-915a-23e2fa044649",
   "metadata": {},
   "outputs": [],
   "source": [
    "%%bash\n",
    "\n",
    "module load gpu/0.17.3b  gcc/8.4.0/xiuwkua  openmpi/4.1.3/v2ei3ge amber/22/ulauqq7-omp\n",
    "\n",
    "pmemd.cuda_SPFP \\\n",
    "                       -O -i min4.in \\\n",
    "                       -o  3ixl_CLGIPL_methyl_proS_inv_complex_4opt.log \\\n",
    "                       -c  3ixl_CLGIPL_methyl_proS_inv_complex_3heat.rst \\\n",
    "                       -p  3ixl_CLGIPL_methyl_proS_inv_complex.top \\\n",
    "                       -r  3ixl_CLGIPL_methyl_proS_inv_complex_4opt.rst \\\n",
    "                       -x  3ixl_CLGIPL_methyl_proS_inv_complex_4opt.crd \\\n",
    "                       -ref 3ixl_CLGIPL_methyl_proS_inv_complex_3heat.rst\n"
   ]
  },
  {
   "cell_type": "markdown",
   "id": "d02f89a7-c578-4460-bcdf-5067974702a9",
   "metadata": {},
   "source": [
    "# 1.4 Binding mode A: heating\n",
    "\n",
    "In the next two steps, we heat our system to 300 K, with weak restraints on the C-alpha atoms."
   ]
  },
  {
   "cell_type": "code",
   "execution_count": null,
   "id": "aff370a2-dace-4d0f-8af8-d7ce5f9dff61",
   "metadata": {},
   "outputs": [],
   "source": [
    "%%bash\n",
    "\n",
    "module load gpu/0.17.3b  gcc/8.4.0/xiuwkua  openmpi/4.1.3/v2ei3ge amber/22/ulauqq7-omp\n",
    "\n",
    "pmemd.cuda_SPFP \\\n",
    "                       -O -i heat5nvt.in \\\n",
    "                       -o  3ixl_CLGIPL_methyl_proS_inv_complex_5heat.log \\\n",
    "                       -c  3ixl_CLGIPL_methyl_proS_inv_complex_4opt.rst \\\n",
    "                       -p  3ixl_CLGIPL_methyl_proS_inv_complex.top \\\n",
    "                       -r  3ixl_CLGIPL_methyl_proS_inv_complex_5heat.rst \\\n",
    "                       -x  3ixl_CLGIPL_methyl_proS_inv_complex_5heat.crd \\\n",
    "                       -ref 3ixl_CLGIPL_methyl_proS_inv_complex_4opt.rst\n",
    "\n",
    "pmemd.cuda_SPFP \\\n",
    "                       -O -i  heat6npt.in \\\n",
    "                       -o  3ixl_CLGIPL_methyl_proS_inv_complex_6heat.log \\\n",
    "                       -c  3ixl_CLGIPL_methyl_proS_inv_complex_5heat.rst \\\n",
    "                       -p  3ixl_CLGIPL_methyl_proS_inv_complex.top \\\n",
    "                       -r  3ixl_CLGIPL_methyl_proS_inv_complex_6heat.rst \\\n",
    "                       -x  3ixl_CLGIPL_methyl_proS_inv_complex_6heat.crd \\\n",
    "                       -ref  3ixl_CLGIPL_methyl_proS_inv_complex_5heat.rst\n"
   ]
  },
  {
   "cell_type": "markdown",
   "id": "130382ff-aa85-418a-8afb-a35dee5b0d6e",
   "metadata": {},
   "source": [
    "# 1.5 Binding mode A: equilibration\n",
    "\n",
    "In the following steps, we run equilibration steps, with increasingly smaller restraints of the protein C-alpha atoms, with the final equilibration run without restraints."
   ]
  },
  {
   "cell_type": "code",
   "execution_count": null,
   "id": "1bfb6544-e353-4a4c-8970-689814d653e2",
   "metadata": {},
   "outputs": [],
   "source": [
    "%%bash\n",
    "\n",
    "module load gpu/0.17.3b  gcc/8.4.0/xiuwkua  openmpi/4.1.3/v2ei3ge amber/22/ulauqq7-omp\n",
    "\n",
    "pmemd.cuda_SPFP \\\n",
    "                       -O -i  equil7npt.in \\\n",
    "                       -o  3ixl_CLGIPL_methyl_proS_inv_complex_7equil.log \\\n",
    "                       -c  3ixl_CLGIPL_methyl_proS_inv_complex_6heat.rst \\\n",
    "                       -p  3ixl_CLGIPL_methyl_proS_inv_complex.top \\\n",
    "                       -r  3ixl_CLGIPL_methyl_proS_inv_complex_7equil.rst \\\n",
    "                       -x  3ixl_CLGIPL_methyl_proS_inv_complex_7equil.crd \\\n",
    "                       -ref 3ixl_CLGIPL_methyl_proS_inv_complex_6heat.rst\n",
    "step=7\n",
    "\n",
    "while [ $step -le 11 ]\n",
    "do\n",
    "step_pos=$(($step+1))\n",
    "\n",
    "pmemd.cuda_SPFP \\\n",
    "                       -O -i  equil${step_pos}npt.in \\\n",
    "                       -o  3ixl_CLGIPL_methyl_proS_inv_complex_${step_pos}equil.log \\\n",
    "                       -c  3ixl_CLGIPL_methyl_proS_inv_complex_${step}equil.rst \\\n",
    "                       -p  3ixl_CLGIPL_methyl_proS_inv_complex.top \\\n",
    "                       -r  3ixl_CLGIPL_methyl_proS_inv_complex_${step_pos}equil.rst \\\n",
    "                       -x  3ixl_CLGIPL_methyl_proS_inv_complex_${step_pos}equil.crd \\\n",
    "                       -ref 3ixl_CLGIPL_methyl_proS_inv_complex_${step}equil.rst\n",
    "step=$((step+1))\n",
    "done\n"
   ]
  },
  {
   "cell_type": "markdown",
   "id": "ab4dd63b-121c-459a-81ee-65a5d0fc9d0b",
   "metadata": {},
   "source": [
    "# 1.6 Binding mode A: production run\n",
    "\n",
    "In the final molecular dynamics step, we run a longer production run, with frequent sampling, for analysis."
   ]
  },
  {
   "cell_type": "code",
   "execution_count": null,
   "id": "ef2ed429-f48d-46ac-af71-ad32df89182b",
   "metadata": {},
   "outputs": [],
   "source": [
    "%%bash\n",
    "\n",
    "module load gpu/0.17.3b  gcc/8.4.0/xiuwkua  openmpi/4.1.3/v2ei3ge amber/22/ulauqq7-omp\n",
    "\n",
    "pmemd.cuda_SPFP \\\n",
    "                       -O -i  production1.in \\\n",
    "                       -o  3ixl_CLGIPL_methyl_proS_inv_complex_PRODUCTION_1.log \\\n",
    "                       -c  3ixl_CLGIPL_methyl_proS_inv_complex_12equil.rst \\\n",
    "                       -p  3ixl_CLGIPL_methyl_proS_inv_complex.top \\\n",
    "                       -r  3ixl_CLGIPL_methyl_proS_inv_complex_PRODUCTION_1.rst \\\n",
    "                       -x  3ixl_CLGIPL_methyl_proS_inv_complex_PRODUCTION_1.crd \\\n",
    "                       -ref 3ixl_CLGIPL_methyl_proS_inv_complex_12equil.rst\n"
   ]
  },
  {
   "cell_type": "markdown",
   "id": "643a47d9-3235-4065-bae3-431d379d9c74",
   "metadata": {},
   "source": [
    "# 2 Binding mode B: Complete simulation protocol\n",
    "\n",
    "After completing the individual simulation steps for Binding mode A, we continue with Binding mode B (pro-S cleavage, retention mechanism). For this, the complete protocol is run in one go."
   ]
  },
  {
   "cell_type": "code",
   "execution_count": null,
   "id": "a0067a72-5e9e-4c1d-8ae4-cd1fa6bbb082",
   "metadata": {},
   "outputs": [],
   "source": [
    "%%bash\n",
    "\n",
    "module load gpu/0.17.3b  gcc/8.4.0/xiuwkua  openmpi/4.1.3/v2ei3ge amber/22/ulauqq7-omp\n",
    "\n",
    "pmemd.cuda_SPFP \\\n",
    "                       -O -i min1.in \\\n",
    "                       -o  3ixl_CLGIPL_methyl_proS_ret_complex_1opt.log \\\n",
    "                       -c  3ixl_CLGIPL_methyl_proS_ret_complex.crd \\\n",
    "                       -p  3ixl_CLGIPL_methyl_proS_ret_complex.top \\\n",
    "                       -r  3ixl_CLGIPL_methyl_proS_ret_complex_1opt.rst \\\n",
    "                       -x  3ixl_CLGIPL_methyl_proS_ret_complex_1opt.crd \\\n",
    "                       -ref 3ixl_CLGIPL_methyl_proS_ret_complex.crd\n",
    "\n",
    "pmemd.cuda_SPFP \\\n",
    "                       -O -i heat2nvt.in \\\n",
    "                       -o  3ixl_CLGIPL_methyl_proS_ret_complex_2heat.log \\\n",
    "                       -c  3ixl_CLGIPL_methyl_proS_ret_complex_1opt.rst \\\n",
    "                       -p  3ixl_CLGIPL_methyl_proS_ret_complex.top \\\n",
    "                       -r  3ixl_CLGIPL_methyl_proS_ret_complex_2heat.rst \\\n",
    "                       -x  3ixl_CLGIPL_methyl_proS_ret_complex_2heat.crd \\\n",
    "                       -ref 3ixl_CLGIPL_methyl_proS_ret_complex_1opt.rst\n",
    "\n",
    "pmemd.cuda_SPFP \\\n",
    "                       -O -i  heat3npt.in \\\n",
    "                       -o  3ixl_CLGIPL_methyl_proS_ret_complex_3heat.log \\\n",
    "                       -c  3ixl_CLGIPL_methyl_proS_ret_complex_2heat.rst \\\n",
    "                       -p  3ixl_CLGIPL_methyl_proS_ret_complex.top \\\n",
    "                       -r  3ixl_CLGIPL_methyl_proS_ret_complex_3heat.rst \\\n",
    "                       -x  3ixl_CLGIPL_methyl_proS_ret_complex_3heat.crd \\\n",
    "                       -ref  3ixl_CLGIPL_methyl_proS_ret_complex_2heat.rst\n",
    "\n",
    "pmemd.cuda_SPFP \\\n",
    "                       -O -i min4.in \\\n",
    "                       -o  3ixl_CLGIPL_methyl_proS_ret_complex_4opt.log \\\n",
    "                       -c  3ixl_CLGIPL_methyl_proS_ret_complex_3heat.rst \\\n",
    "                       -p  3ixl_CLGIPL_methyl_proS_ret_complex.top \\\n",
    "                       -r  3ixl_CLGIPL_methyl_proS_ret_complex_4opt.rst \\\n",
    "                       -x  3ixl_CLGIPL_methyl_proS_ret_complex_4opt.crd \\\n",
    "                       -ref 3ixl_CLGIPL_methyl_proS_ret_complex_3heat.rst\n",
    "\n",
    "pmemd.cuda_SPFP \\\n",
    "                       -O -i heat5nvt.in \\\n",
    "                       -o  3ixl_CLGIPL_methyl_proS_ret_complex_5heat.log \\\n",
    "                       -c  3ixl_CLGIPL_methyl_proS_ret_complex_4opt.rst \\\n",
    "                       -p  3ixl_CLGIPL_methyl_proS_ret_complex.top \\\n",
    "                       -r  3ixl_CLGIPL_methyl_proS_ret_complex_5heat.rst \\\n",
    "                       -x  3ixl_CLGIPL_methyl_proS_ret_complex_5heat.crd \\\n",
    "                       -ref 3ixl_CLGIPL_methyl_proS_ret_complex_4opt.rst\n",
    "\n",
    "pmemd.cuda_SPFP \\\n",
    "                       -O -i  heat6npt.in \\\n",
    "                       -o  3ixl_CLGIPL_methyl_proS_ret_complex_6heat.log \\\n",
    "                       -c  3ixl_CLGIPL_methyl_proS_ret_complex_5heat.rst \\\n",
    "                       -p  3ixl_CLGIPL_methyl_proS_ret_complex.top \\\n",
    "                       -r  3ixl_CLGIPL_methyl_proS_ret_complex_6heat.rst \\\n",
    "                       -x  3ixl_CLGIPL_methyl_proS_ret_complex_6heat.crd \\\n",
    "                       -ref  3ixl_CLGIPL_methyl_proS_ret_complex_5heat.rst\n",
    "\n",
    "pmemd.cuda_SPFP \\\n",
    "                       -O -i  equil7npt.in \\\n",
    "                       -o  3ixl_CLGIPL_methyl_proS_ret_complex_7equil.log \\\n",
    "                       -c  3ixl_CLGIPL_methyl_proS_ret_complex_6heat.rst \\\n",
    "                       -p  3ixl_CLGIPL_methyl_proS_ret_complex.top \\\n",
    "                       -r  3ixl_CLGIPL_methyl_proS_ret_complex_7equil.rst \\\n",
    "                       -x  3ixl_CLGIPL_methyl_proS_ret_complex_7equil.crd \\\n",
    "                       -ref 3ixl_CLGIPL_methyl_proS_ret_complex_6heat.rst\n",
    "step=7\n",
    "\n",
    "while [ $step -le 11 ]\n",
    "do\n",
    "step_pos=$(($step+1))\n",
    "\n",
    "pmemd.cuda_SPFP \\\n",
    "                       -O -i  equil${step_pos}npt.in \\\n",
    "                       -o  3ixl_CLGIPL_methyl_proS_ret_complex_${step_pos}equil.log \\\n",
    "                       -c  3ixl_CLGIPL_methyl_proS_ret_complex_${step}equil.rst \\\n",
    "                       -p  3ixl_CLGIPL_methyl_proS_ret_complex.top \\\n",
    "                       -r  3ixl_CLGIPL_methyl_proS_ret_complex_${step_pos}equil.rst \\\n",
    "                       -x  3ixl_CLGIPL_methyl_proS_ret_complex_${step_pos}equil.crd \\\n",
    "                       -ref 3ixl_CLGIPL_methyl_proS_ret_complex_${step}equil.rst\n",
    "step=$((step+1))\n",
    "done\n",
    "\n",
    "pmemd.cuda_SPFP \\\n",
    "                       -O -i  production1.in \\\n",
    "                       -o  3ixl_CLGIPL_methyl_proS_ret_complex_PRODUCTION_1.log \\\n",
    "                       -c  3ixl_CLGIPL_methyl_proS_ret_complex_12equil.rst \\\n",
    "                       -p  3ixl_CLGIPL_methyl_proS_ret_complex.top \\\n",
    "                       -r  3ixl_CLGIPL_methyl_proS_ret_complex_PRODUCTION_1.rst \\\n",
    "                       -x  3ixl_CLGIPL_methyl_proS_ret_complex_PRODUCTION_1.crd \\\n",
    "                       -ref 3ixl_CLGIPL_methyl_proS_ret_complex_12equil.rst\n"
   ]
  },
  {
   "cell_type": "markdown",
   "id": "e1efbb05-7152-4d8b-9340-27911ad250f1",
   "metadata": {},
   "source": [
    "# 3 Binding mode C: Complete simulation protocol\n",
    "\n",
    "We continue the simulations with Binding mode C (pro-R cleavage, inversion mechanism)."
   ]
  },
  {
   "cell_type": "code",
   "execution_count": null,
   "id": "b9b56fc6-d6a6-46b9-ac6b-cc018678d589",
   "metadata": {},
   "outputs": [],
   "source": [
    "%%bash\n",
    "\n",
    "module load gpu/0.17.3b  gcc/8.4.0/xiuwkua  openmpi/4.1.3/v2ei3ge amber/22/ulauqq7-omp\n",
    "\n",
    "pmemd.cuda_SPFP \\\n",
    "                       -O -i min1.in \\\n",
    "                       -o  3ixl_CLGIPL_methyl_proR_inv_complex_1opt.log \\\n",
    "                       -c  3ixl_CLGIPL_methyl_proR_inv_complex.crd \\\n",
    "                       -p  3ixl_CLGIPL_methyl_proR_inv_complex.top \\\n",
    "                       -r  3ixl_CLGIPL_methyl_proR_inv_complex_1opt.rst \\\n",
    "                       -x  3ixl_CLGIPL_methyl_proR_inv_complex_1opt.crd \\\n",
    "                       -ref 3ixl_CLGIPL_methyl_proR_inv_complex.crd\n",
    "\n",
    "pmemd.cuda_SPFP \\\n",
    "                       -O -i heat2nvt.in \\\n",
    "                       -o  3ixl_CLGIPL_methyl_proR_inv_complex_2heat.log \\\n",
    "                       -c  3ixl_CLGIPL_methyl_proR_inv_complex_1opt.rst \\\n",
    "                       -p  3ixl_CLGIPL_methyl_proR_inv_complex.top \\\n",
    "                       -r  3ixl_CLGIPL_methyl_proR_inv_complex_2heat.rst \\\n",
    "                       -x  3ixl_CLGIPL_methyl_proR_inv_complex_2heat.crd \\\n",
    "                       -ref 3ixl_CLGIPL_methyl_proR_inv_complex_1opt.rst\n",
    "\n",
    "pmemd.cuda_SPFP \\\n",
    "                       -O -i  heat3npt.in \\\n",
    "                       -o  3ixl_CLGIPL_methyl_proR_inv_complex_3heat.log \\\n",
    "                       -c  3ixl_CLGIPL_methyl_proR_inv_complex_2heat.rst \\\n",
    "                       -p  3ixl_CLGIPL_methyl_proR_inv_complex.top \\\n",
    "                       -r  3ixl_CLGIPL_methyl_proR_inv_complex_3heat.rst \\\n",
    "                       -x  3ixl_CLGIPL_methyl_proR_inv_complex_3heat.crd \\\n",
    "                       -ref  3ixl_CLGIPL_methyl_proR_inv_complex_2heat.rst\n",
    "\n",
    "pmemd.cuda_SPFP \\\n",
    "                       -O -i min4.in \\\n",
    "                       -o  3ixl_CLGIPL_methyl_proR_inv_complex_4opt.log \\\n",
    "                       -c  3ixl_CLGIPL_methyl_proR_inv_complex_3heat.rst \\\n",
    "                       -p  3ixl_CLGIPL_methyl_proR_inv_complex.top \\\n",
    "                       -r  3ixl_CLGIPL_methyl_proR_inv_complex_4opt.rst \\\n",
    "                       -x  3ixl_CLGIPL_methyl_proR_inv_complex_4opt.crd \\\n",
    "                       -ref 3ixl_CLGIPL_methyl_proR_inv_complex_3heat.rst\n",
    "\n",
    "pmemd.cuda_SPFP \\\n",
    "                       -O -i heat5nvt.in \\\n",
    "                       -o  3ixl_CLGIPL_methyl_proR_inv_complex_5heat.log \\\n",
    "                       -c  3ixl_CLGIPL_methyl_proR_inv_complex_4opt.rst \\\n",
    "                       -p  3ixl_CLGIPL_methyl_proR_inv_complex.top \\\n",
    "                       -r  3ixl_CLGIPL_methyl_proR_inv_complex_5heat.rst \\\n",
    "                       -x  3ixl_CLGIPL_methyl_proR_inv_complex_5heat.crd \\\n",
    "                       -ref 3ixl_CLGIPL_methyl_proR_inv_complex_4opt.rst\n",
    "\n",
    "pmemd.cuda_SPFP \\\n",
    "                       -O -i  heat6npt.in \\\n",
    "                       -o  3ixl_CLGIPL_methyl_proR_inv_complex_6heat.log \\\n",
    "                       -c  3ixl_CLGIPL_methyl_proR_inv_complex_5heat.rst \\\n",
    "                       -p  3ixl_CLGIPL_methyl_proR_inv_complex.top \\\n",
    "                       -r  3ixl_CLGIPL_methyl_proR_inv_complex_6heat.rst \\\n",
    "                       -x  3ixl_CLGIPL_methyl_proR_inv_complex_6heat.crd \\\n",
    "                       -ref  3ixl_CLGIPL_methyl_proR_inv_complex_5heat.rst\n",
    "\n",
    "pmemd.cuda_SPFP \\\n",
    "                       -O -i  equil7npt.in \\\n",
    "                       -o  3ixl_CLGIPL_methyl_proR_inv_complex_7equil.log \\\n",
    "                       -c  3ixl_CLGIPL_methyl_proR_inv_complex_6heat.rst \\\n",
    "                       -p  3ixl_CLGIPL_methyl_proR_inv_complex.top \\\n",
    "                       -r  3ixl_CLGIPL_methyl_proR_inv_complex_7equil.rst \\\n",
    "                       -x  3ixl_CLGIPL_methyl_proR_inv_complex_7equil.crd \\\n",
    "                       -ref 3ixl_CLGIPL_methyl_proR_inv_complex_6heat.rst\n",
    "step=7\n",
    "\n",
    "while [ $step -le 11 ]\n",
    "do\n",
    "step_pos=$(($step+1))\n",
    "\n",
    "pmemd.cuda_SPFP \\\n",
    "                       -O -i  equil${step_pos}npt.in \\\n",
    "                       -o  3ixl_CLGIPL_methyl_proR_inv_complex_${step_pos}equil.log \\\n",
    "                       -c  3ixl_CLGIPL_methyl_proR_inv_complex_${step}equil.rst \\\n",
    "                       -p  3ixl_CLGIPL_methyl_proR_inv_complex.top \\\n",
    "                       -r  3ixl_CLGIPL_methyl_proR_inv_complex_${step_pos}equil.rst \\\n",
    "                       -x  3ixl_CLGIPL_methyl_proR_inv_complex_${step_pos}equil.crd \\\n",
    "                       -ref 3ixl_CLGIPL_methyl_proR_inv_complex_${step}equil.rst\n",
    "step=$((step+1))\n",
    "done\n",
    "\n",
    "pmemd.cuda_SPFP \\\n",
    "                       -O -i  production1.in \\\n",
    "                       -o  3ixl_CLGIPL_methyl_proR_inv_complex_PRODUCTION_1.log \\\n",
    "                       -c  3ixl_CLGIPL_methyl_proR_inv_complex_12equil.rst \\\n",
    "                       -p  3ixl_CLGIPL_methyl_proR_inv_complex.top \\\n",
    "                       -r  3ixl_CLGIPL_methyl_proR_inv_complex_PRODUCTION_1.rst \\\n",
    "                       -x  3ixl_CLGIPL_methyl_proR_inv_complex_PRODUCTION_1.crd \\\n",
    "                       -ref 3ixl_CLGIPL_methyl_proR_inv_complex_12equil.rst\n"
   ]
  },
  {
   "cell_type": "markdown",
   "id": "53f018f2-9caa-4121-9772-77cacbcbba9f",
   "metadata": {},
   "source": [
    "# 4 Binding mode D: Complete simulation protocol\n",
    "\n",
    "We continue the simulations with Binding mode D (pro-R cleavage, retention mechanism)."
   ]
  },
  {
   "cell_type": "code",
   "execution_count": null,
   "id": "ebea39fa-0c04-4883-abf1-e92a374d80ca",
   "metadata": {},
   "outputs": [],
   "source": [
    "%%bash\n",
    "\n",
    "module load gpu/0.17.3b  gcc/8.4.0/xiuwkua  openmpi/4.1.3/v2ei3ge amber/22/ulauqq7-omp\n",
    "\n",
    "pmemd.cuda_SPFP \\\n",
    "                       -O -i min1.in \\\n",
    "                       -o  3ixl_CLGIPL_methyl_proR_ret_complex_1opt.log \\\n",
    "                       -c  3ixl_CLGIPL_methyl_proR_ret_complex.crd \\\n",
    "                       -p  3ixl_CLGIPL_methyl_proR_ret_complex.top \\\n",
    "                       -r  3ixl_CLGIPL_methyl_proR_ret_complex_1opt.rst \\\n",
    "                       -x  3ixl_CLGIPL_methyl_proR_ret_complex_1opt.crd \\\n",
    "                       -ref 3ixl_CLGIPL_methyl_proR_ret_complex.crd\n",
    "\n",
    "pmemd.cuda_SPFP \\\n",
    "                       -O -i heat2nvt.in \\\n",
    "                       -o  3ixl_CLGIPL_methyl_proR_ret_complex_2heat.log \\\n",
    "                       -c  3ixl_CLGIPL_methyl_proR_ret_complex_1opt.rst \\\n",
    "                       -p  3ixl_CLGIPL_methyl_proR_ret_complex.top \\\n",
    "                       -r  3ixl_CLGIPL_methyl_proR_ret_complex_2heat.rst \\\n",
    "                       -x  3ixl_CLGIPL_methyl_proR_ret_complex_2heat.crd \\\n",
    "                       -ref 3ixl_CLGIPL_methyl_proR_ret_complex_1opt.rst\n",
    "\n",
    "pmemd.cuda_SPFP \\\n",
    "                       -O -i  heat3npt.in \\\n",
    "                       -o  3ixl_CLGIPL_methyl_proR_ret_complex_3heat.log \\\n",
    "                       -c  3ixl_CLGIPL_methyl_proR_ret_complex_2heat.rst \\\n",
    "                       -p  3ixl_CLGIPL_methyl_proR_ret_complex.top \\\n",
    "                       -r  3ixl_CLGIPL_methyl_proR_ret_complex_3heat.rst \\\n",
    "                       -x  3ixl_CLGIPL_methyl_proR_ret_complex_3heat.crd \\\n",
    "                       -ref  3ixl_CLGIPL_methyl_proR_ret_complex_2heat.rst\n",
    "\n",
    "pmemd.cuda_SPFP \\\n",
    "                       -O -i min4.in \\\n",
    "                       -o  3ixl_CLGIPL_methyl_proR_ret_complex_4opt.log \\\n",
    "                       -c  3ixl_CLGIPL_methyl_proR_ret_complex_3heat.rst \\\n",
    "                       -p  3ixl_CLGIPL_methyl_proR_ret_complex.top \\\n",
    "                       -r  3ixl_CLGIPL_methyl_proR_ret_complex_4opt.rst \\\n",
    "                       -x  3ixl_CLGIPL_methyl_proR_ret_complex_4opt.crd \\\n",
    "                       -ref 3ixl_CLGIPL_methyl_proR_ret_complex_3heat.rst\n",
    "\n",
    "pmemd.cuda_SPFP \\\n",
    "                       -O -i heat5nvt.in \\\n",
    "                       -o  3ixl_CLGIPL_methyl_proR_ret_complex_5heat.log \\\n",
    "                       -c  3ixl_CLGIPL_methyl_proR_ret_complex_4opt.rst \\\n",
    "                       -p  3ixl_CLGIPL_methyl_proR_ret_complex.top \\\n",
    "                       -r  3ixl_CLGIPL_methyl_proR_ret_complex_5heat.rst \\\n",
    "                       -x  3ixl_CLGIPL_methyl_proR_ret_complex_5heat.crd \\\n",
    "                       -ref 3ixl_CLGIPL_methyl_proR_ret_complex_4opt.rst\n",
    "\n",
    "pmemd.cuda_SPFP \\\n",
    "                       -O -i  heat6npt.in \\\n",
    "                       -o  3ixl_CLGIPL_methyl_proR_ret_complex_6heat.log \\\n",
    "                       -c  3ixl_CLGIPL_methyl_proR_ret_complex_5heat.rst \\\n",
    "                       -p  3ixl_CLGIPL_methyl_proR_ret_complex.top \\\n",
    "                       -r  3ixl_CLGIPL_methyl_proR_ret_complex_6heat.rst \\\n",
    "                       -x  3ixl_CLGIPL_methyl_proR_ret_complex_6heat.crd \\\n",
    "                       -ref  3ixl_CLGIPL_methyl_proR_ret_complex_5heat.rst\n",
    "pmemd.cuda_SPFP \\\n",
    "                       -O -i  equil7npt.in \\\n",
    "                       -o  3ixl_CLGIPL_methyl_proS_inv_complex_7equil.log \\\n",
    "                       -c  3ixl_CLGIPL_methyl_proS_inv_complex_6heat.rst \\\n",
    "                       -p  3ixl_CLGIPL_methyl_proS_inv_complex.top \\\n",
    "                       -r  3ixl_CLGIPL_methyl_proS_inv_complex_7equil.rst \\\n",
    "                       -x  3ixl_CLGIPL_methyl_proS_inv_complex_7equil.crd \\\n",
    "                       -ref 3ixl_CLGIPL_methyl_proS_inv_complex_6heat.rst\n",
    "step=7\n",
    "\n",
    "while [ $step -le 11 ]\n",
    "do\n",
    "step_pos=$(($step+1))\n",
    "\n",
    "pmemd.cuda_SPFP \\\n",
    "                       -O -i  equil${step_pos}npt.in \\\n",
    "                       -o  3ixl_CLGIPL_methyl_proS_inv_complex_${step_pos}equil.log \\\n",
    "                       -c  3ixl_CLGIPL_methyl_proS_inv_complex_${step}equil.rst \\\n",
    "                       -p  3ixl_CLGIPL_methyl_proS_inv_complex.top \\\n",
    "                       -r  3ixl_CLGIPL_methyl_proS_inv_complex_${step_pos}equil.rst \\\n",
    "                       -x  3ixl_CLGIPL_methyl_proS_inv_complex_${step_pos}equil.crd \\\n",
    "                       -ref 3ixl_CLGIPL_methyl_proS_inv_complex_${step}equil.rst\n",
    "step=$((step+1))\n",
    "done\n",
    "\n",
    "pmemd.cuda_SPFP \\\n",
    "                       -O -i  production1.in \\\n",
    "                       -o  3ixl_CLGIPL_methyl_proS_inv_complex_PRODUCTION_1.log \\\n",
    "                       -c  3ixl_CLGIPL_methyl_proS_inv_complex_12equil.rst \\\n",
    "                       -p  3ixl_CLGIPL_methyl_proS_inv_complex.top \\\n",
    "                       -r  3ixl_CLGIPL_methyl_proS_inv_complex_PRODUCTION_1.rst \\\n",
    "                       -x  3ixl_CLGIPL_methyl_proS_inv_complex_PRODUCTION_1.crd \\\n",
    "                       -ref 3ixl_CLGIPL_methyl_proS_inv_complex_12equil.rst\n"
   ]
  },
  {
   "cell_type": "markdown",
   "id": "043d9985-fafe-47c2-a7bc-7f98e096b637",
   "metadata": {},
   "source": [
    "# 5 Analysis of the simulations\n",
    "\n",
    "After the production runs are completed, we continue with the analysis of our simulations, with particular focus on the distance of the substrate central atom from the catalytic site. To carry out the analysis, we apply the cpptraj script of AmberTools, on some of our available trajectories. After completion, we calculate the average and SD of individual simulations."
   ]
  },
  {
   "cell_type": "code",
   "execution_count": null,
   "id": "bd15a5c6",
   "metadata": {},
   "outputs": [],
   "source": [
    "%copy_data source=local:proS_inv/1_md/3ixl_CLGIPL_methyl_proR_ret_complex.top target=hpc_gpu:.\n",
    "%copy_data source=local:proS_inv/1_md/dist_cpptraj_proR_ret_1.in target=hpc_gpu:.\n",
    "%copy_data source=local:cybershuttle_data/amber-trajectory-analysis/3ixl_CLGIPL_methyl_proR_ret_complex_PRODUCTION_1_first_100.crd target=hpc_gpu:.\n",
    "%copy_data source=local:proS_inv/1_md/dist_cpptraj_proS_inv_1.in target=hpc_gpu:.\n",
    "%copy_data source=local:cybershuttle_data/amber-trajectory-analysis/3ixl_CLGIPL_methyl_proS_inv_complex_PRODUCTION_1_first_100.crd target=hpc_gpu:."
   ]
  },
  {
   "cell_type": "code",
   "execution_count": null,
   "id": "6303933e",
   "metadata": {},
   "outputs": [],
   "source": [
    "%%bash\n",
    "\n",
    "module load gpu/0.17.3b  gcc/8.4.0/xiuwkua  openmpi/4.1.3/v2ei3ge amber/22/ulauqq7-omp\n",
    "\n",
    "cpptraj -i dist_cpptraj_proR_ret_1.in\n",
    "tail -n 100 proR_ret_dist_1.dat | awk 'FNR > 1 {sum += $2; sumsq += $2^2; count++} END {mean = sum/count; sd = sqrt(sumsq/count - mean^2); print \"Mean:\", mean, \"SD:\", sd}'"
   ]
  },
  {
   "cell_type": "code",
   "execution_count": null,
   "id": "9bbfd887",
   "metadata": {},
   "outputs": [],
   "source": [
    "%%bash\n",
    "\n",
    "module load gpu/0.17.3b  gcc/8.4.0/xiuwkua  openmpi/4.1.3/v2ei3ge amber/22/ulauqq7-omp\n",
    "\n",
    "cpptraj -i dist_cpptraj_proS_inv_1.in\n",
    "tail -n 100 proS_inv_dist_1.dat | awk 'FNR > 1 {sum += $2; sumsq += $2^2; count++} END {mean = sum/count; sd = sqrt(sumsq/count - mean^2); print \"Mean:\", mean, \"SD:\", sd}'"
   ]
  },
  {
   "cell_type": "code",
   "execution_count": null,
   "id": "38432916-5e35-46b5-b7d3-b38b3fdf1c81",
   "metadata": {},
   "outputs": [],
   "source": [
    "%stop_runtime hpc_gpu"
   ]
  }
 ],
 "metadata": {
  "kernelspec": {
   "display_name": "Python 3 (ipykernel)",
   "language": "python",
   "name": "python3"
  },
  "language_info": {
   "codemirror_mode": {
    "name": "ipython",
    "version": 3
   },
   "file_extension": ".py",
   "mimetype": "text/x-python",
   "name": "python",
   "nbconvert_exporter": "python",
   "pygments_lexer": "ipython3",
   "version": "3.11.6"
  }
 },
 "nbformat": 4,
 "nbformat_minor": 5
}
